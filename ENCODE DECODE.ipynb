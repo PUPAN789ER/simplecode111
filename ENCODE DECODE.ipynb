{
 "cells": [
  {
   "cell_type": "code",
   "execution_count": 1,
   "metadata": {},
   "outputs": [
    {
     "name": "stdout",
     "output_type": "stream",
     "text": [
      "1. Encryption\n",
      "2. Decryption\n",
      "Choose(1,2): 1\n",
      "Encryption\n",
      "Message can only be Lower or Uppercase alphabet\n",
      "Enter message: aa\n",
      "Enter key(0-25): 3\n",
      "Encrypted: dd\n"
     ]
    }
   ],
   "source": [
    "def encryption():\n",
    "    print(\"Encryption\")\n",
    "\n",
    "    print(\"Message can only be Lower or Uppercase alphabet\")\n",
    "    msg = input(\"Enter message: \")\n",
    "    key = int(input(\"Enter key(0-25): \"))  # based on 26 letters of alphabet\n",
    "\n",
    "    encrypted_text = \"\"\n",
    "\n",
    "    for i in range(len(msg)):\n",
    "        if ord(msg[i]) == 32:  # ord() will give us the ASCII of space char, which is 32\n",
    "            encrypted_text += chr(ord(msg[i]))  # chr() will convert ASCII back to character\n",
    "\n",
    "        elif ord(msg[i]) + key > 122:\n",
    "            # after 'z' move back to 'a', 'a' = 97, 'z' = 122\n",
    "            temp = (ord(msg[i]) + key) - 122  # subtracting 122 to get a lower int and adding it in 96\n",
    "            encrypted_text += chr(96+temp)\n",
    "\n",
    "        elif (ord(msg[i]) + key > 90) and (ord(msg[i]) <= 96):\n",
    "            # moving back to 'A' after 'Z'\n",
    "            temp = (ord(msg[i]) + key) - 90\n",
    "            encrypted_text += chr(64+temp)\n",
    "\n",
    "        else:\n",
    "            # in case of letters being between a-z and A-Z\n",
    "            encrypted_text += chr(ord(msg[i]) + key)\n",
    "\n",
    "    print(\"Encrypted: \" + encrypted_text)\n",
    "\n",
    "\n",
    "def decryption():\n",
    "    print(\"Decryption\")\n",
    "\n",
    "    print(\"Message can only be Lower or Uppercase alphabet\")\n",
    "    encrp_msg = input(\"Enter encrypted Text: \")\n",
    "    decrp_key = int(input(\"Enter key(0-25): \"))\n",
    "\n",
    "    decrypted_text = \"\"\n",
    "\n",
    "    for i in range(len(encrp_msg)):\n",
    "        if ord(encrp_msg[i]) == 32:\n",
    "            decrypted_text += chr(ord(encrp_msg[i]))\n",
    "\n",
    "        elif ((ord(encrp_msg[i]) - decrp_key) < 97) and ((ord(encrp_msg[i]) - decrp_key) > 90):\n",
    "            # subtract key from letter ASCII and add 26 to current number\n",
    "            temp = (ord(encrp_msg[i]) - decrp_key) + 26\n",
    "            decrypted_text += chr(temp)\n",
    "\n",
    "        elif (ord(encrp_msg[i]) - decrp_key) < 65:\n",
    "            temp = (ord(encrp_msg[i]) - decrp_key) + 26\n",
    "            decrypted_text += chr(temp)\n",
    "\n",
    "        else:\n",
    "            decrypted_text += chr(ord(encrp_msg[i]) - decrp_key)\n",
    "\n",
    "    print(\"Decrypted Text: \" + decrypted_text)\n",
    "\n",
    "\n",
    "def main():\n",
    "    choice = int(input(\"1. Encryption\\n2. Decryption\\nChoose(1,2): \"))\n",
    "    if choice == 1:\n",
    "        encryption()\n",
    "    elif choice == 2:\n",
    "        decryption()\n",
    "    else:\n",
    "        print(\"Wrong Choice\")\n",
    "\n",
    "\n",
    "if __name__ == \"__main__\":\n",
    "    main()"
   ]
  }
 ],
 "metadata": {
  "kernelspec": {
   "display_name": "Python 3",
   "language": "python",
   "name": "python3"
  },
  "language_info": {
   "codemirror_mode": {
    "name": "ipython",
    "version": 3
   },
   "file_extension": ".py",
   "mimetype": "text/x-python",
   "name": "python",
   "nbconvert_exporter": "python",
   "pygments_lexer": "ipython3",
   "version": "3.7.3"
  }
 },
 "nbformat": 4,
 "nbformat_minor": 2
}
